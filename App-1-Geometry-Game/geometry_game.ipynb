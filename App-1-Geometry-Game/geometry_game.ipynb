{
 "cells": [
  {
   "cell_type": "code",
   "execution_count": 100,
   "metadata": {},
   "outputs": [],
   "source": [
    "\n",
    "import math\n",
    "\n",
    "class Point:\n",
    "    \"\"\" This class creates a point (x and y values) consists of integers\"\"\"\n",
    "    def __init__(self, x, y):\n",
    "        self.x = x\n",
    "        self.y = y\n",
    "\n",
    "    def display(self):\n",
    "        return (self.x, self.y)\n",
    "\n",
    "    def falls_in_rectangle(self, rectangle: Rectangle):\n",
    "        if rectangle.lower_left.x < self.x < rectangle.upper_right.x and \\\n",
    "            rectangle.lower_left.y < self.y < rectangle.upper_right.y:\n",
    "            return True\n",
    "        else:\n",
    "            return False\n",
    "    \n",
    "    def distance_between_points(self, point):\n",
    "        x_dist = abs((self.x - point.x)**2)\n",
    "        y_dist = abs((self.y - point.y)**2)\n",
    "        return round(math.sqrt(x_dist + y_dist), 2)\n"
   ]
  },
  {
   "cell_type": "code",
   "execution_count": 101,
   "metadata": {},
   "outputs": [],
   "source": [
    "class Rectangle:\n",
    "\n",
    "    def __init__(self, lower_left: Point, upper_right: Point):\n",
    "        self.lower_left = lower_left\n",
    "        self.upper_right = upper_right\n",
    "    \n",
    "    def area(self):\n",
    "        x_length = self.upper_right.x - self.lower_left.x\n",
    "        y_length = self.upper_right.y - self.lower_left.y\n",
    "        return x_length * y_length"
   ]
  },
  {
   "cell_type": "code",
   "execution_count": 102,
   "metadata": {},
   "outputs": [
    {
     "name": "stdout",
     "output_type": "stream",
     "text": [
      "<class '__main__.Point'>\n",
      "<__main__.Point object at 0x000001B4278963D0>\n",
      "(10, 20)\n"
     ]
    }
   ],
   "source": [
    "point1 = Point(10, 20)\n",
    "print(type(point1))\n",
    "print(point1)\n",
    "print(point1.display())"
   ]
  },
  {
   "cell_type": "code",
   "execution_count": 103,
   "metadata": {},
   "outputs": [
    {
     "data": {
      "text/plain": [
       "True"
      ]
     },
     "execution_count": 103,
     "metadata": {},
     "output_type": "execute_result"
    }
   ],
   "source": [
    "point2 = Point(6, 7)\n",
    "point2.falls_in_rectangle(Rectangle(Point(5, 6), Point(7, 9)))"
   ]
  },
  {
   "cell_type": "code",
   "execution_count": 104,
   "metadata": {},
   "outputs": [
    {
     "data": {
      "text/plain": [
       "13.6"
      ]
     },
     "execution_count": 104,
     "metadata": {},
     "output_type": "execute_result"
    }
   ],
   "source": [
    "point1.distance_between_points(point2)"
   ]
  },
  {
   "cell_type": "code",
   "execution_count": 105,
   "metadata": {},
   "outputs": [
    {
     "data": {
      "text/plain": [
       "False"
      ]
     },
     "execution_count": 105,
     "metadata": {},
     "output_type": "execute_result"
    }
   ],
   "source": [
    "rectangle_x = Rectangle(Point(5, 6), Point(7, 9))\n",
    "point1.falls_in_rectangle(rectangle_x)"
   ]
  },
  {
   "cell_type": "code",
   "execution_count": 106,
   "metadata": {},
   "outputs": [
    {
     "name": "stdout",
     "output_type": "stream",
     "text": [
      "Coordinates:\n",
      "lower left:(1, 2) / upper right: (14, 15)\n"
     ]
    }
   ],
   "source": [
    "from random import randint\n",
    "\n",
    "rand_1, rand_2, rand_3, rand_4 = randint(0, 9), randint(0, 9), randint(10, 19), randint(10, 19)\n",
    "rectangle = Rectangle(Point(rand_1, rand_2), Point(rand_3, rand_4))\n",
    "\n",
    "print(f\"Coordinates:\\n\\\n",
    "lower left:({rectangle.lower_left.x}, {rectangle.lower_left.y}) / upper right: ({rectangle.upper_right.x}, {rectangle.upper_right.y})\")\n"
   ]
  },
  {
   "cell_type": "code",
   "execution_count": 109,
   "metadata": {},
   "outputs": [
    {
     "name": "stdout",
     "output_type": "stream",
     "text": [
      "Your point was inside the rectangle: True\n",
      "Your area was off by: 0\n"
     ]
    }
   ],
   "source": [
    "user_x = int(input(\"Guess X:\"))\n",
    "user_y = int(input(\"Guess Y:\"))\n",
    "user_choice = Point(user_x, user_y)\n",
    "\n",
    "user_area = int(input(\"Guess Rectangle Area:\"))\n",
    "\n",
    "print(f\"Your point was inside the rectangle: {user_choice.falls_in_rectangle(rectangle)}\")\n",
    "\n",
    "print(f\"Your area was off by: {rectangle.area() - user_area}\")"
   ]
  },
  {
   "cell_type": "code",
   "execution_count": null,
   "metadata": {},
   "outputs": [],
   "source": []
  }
 ],
 "metadata": {
  "interpreter": {
   "hash": "f08154012ddadd8e950e6e9e035c7a7b32c136e7647e9b7c77e02eb723a8bedb"
  },
  "kernelspec": {
   "display_name": "Python 3.9.7 ('base')",
   "language": "python",
   "name": "python3"
  },
  "language_info": {
   "codemirror_mode": {
    "name": "ipython",
    "version": 3
   },
   "file_extension": ".py",
   "mimetype": "text/x-python",
   "name": "python",
   "nbconvert_exporter": "python",
   "pygments_lexer": "ipython3",
   "version": "3.9.7"
  },
  "orig_nbformat": 4
 },
 "nbformat": 4,
 "nbformat_minor": 2
}
